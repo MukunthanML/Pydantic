{
 "cells": [
  {
   "cell_type": "markdown",
   "id": "d0f89ea2",
   "metadata": {},
   "source": [
    " ![Alt Text](https://repository-images.githubusercontent.com/90194616/6d31d0d9-6770-4cbc-90d5-a611662126ee)"
   ]
  },
  {
   "cell_type": "markdown",
   "id": "695d7778",
   "metadata": {},
   "source": [
    "### Pydantic is a data validation and settings management library for Python, designed to ensure data integrity and provide clear error messages. It leverages Python type hints to define data models with built-in validation rules, making it easier to handle and validate complex data structures. Ideal for both QA automation testers and general developers, Pydantic helps streamline data validation processes and enforce consistent data formats."
   ]
  },
  {
   "cell_type": "markdown",
   "id": "f21f47c1",
   "metadata": {},
   "source": [
    "#### Basic Model with JSON Input"
   ]
  },
  {
   "cell_type": "code",
   "execution_count": 64,
   "id": "cab9e9ad",
   "metadata": {},
   "outputs": [
    {
     "name": "stdout",
     "output_type": "stream",
     "text": [
      "Validation Error: 1 validation error for User\n",
      "age\n",
      "  value is not a valid integer (type=type_error.integer)\n"
     ]
    }
   ],
   "source": [
    "import json\n",
    "from pydantic import BaseModel, EmailStr\n",
    "from typing import List, Dict, Optional\n",
    "\n",
    "# Define the model\n",
    "class User(BaseModel):\n",
    "    name: str\n",
    "    age: int\n",
    "    email: EmailStr\n",
    "    scores: List[int]\n",
    "    metadata: Dict[str, str]\n",
    "\n",
    "# Sample JSON input as a string\n",
    "json_data = '''\n",
    "{\n",
    "    \"name\": \"Alice\",\n",
    "    \"age\": \"thirty\",\n",
    "    \"email\": \"alice@example.com\",\n",
    "    \"scores\": [85, 92, 78],\n",
    "    \"metadata\": {\"role\": \"admin\", \"department\": \"IT\"}\n",
    "}\n",
    "'''\n",
    "\n",
    "# Parse the JSON string to a Python dictionary\n",
    "data_dict = json.loads(json_data)\n",
    "\n",
    "# Validate the parsed data using the Pydantic model\n",
    "try:\n",
    "    user = User(**data_dict)  # Unpack the dictivonary into the model\n",
    "    print(user)\n",
    "except ValueError as e:\n",
    "    print(f\"Validation Error: {e}\")\n"
   ]
  },
  {
   "cell_type": "markdown",
   "id": "56a24a4c",
   "metadata": {},
   "source": [
    "#### Model with Constraints and JSON Input"
   ]
  },
  {
   "cell_type": "code",
   "execution_count": 69,
   "id": "513dadd5",
   "metadata": {},
   "outputs": [
    {
     "name": "stdout",
     "output_type": "stream",
     "text": [
      "name='Laptop' code='ABC123' price=1000 quantity=5 age=None is_manager=True questions=['What is your name?', 'How old are you?']\n"
     ]
    }
   ],
   "source": [
    "from pydantic import BaseModel, Field, EmailStr\n",
    "from typing import List, Optional\n",
    "\n",
    "class Product(BaseModel):\n",
    "    name: str = Field(..., min_length=3, max_length=15)  # Name must be between 3 and 15 characters\n",
    "    code: str = Field(..., min_length=6, max_length=6)  # Code must be exactly 6 characters\n",
    "    price: int = Field(..., ge=0)  # Price must be a non-negative integer\n",
    "    quantity: int = Field(..., gt=0)  # Quantity must be greater than 0\n",
    "    age: Optional[int] = Field(None, ge=18, le=100)  # Age is optional, between 18 and 100 if provided\n",
    "    is_manager: bool = Field(False)  # Default is False\n",
    "    questions: List[str] = Field(..., min_items=1, max_items=100)  # Must contain 1 to 100 questions\n",
    "    #The ... ensures that the fields are not optional, and if these fields are not provided, Pydantic will raise a validation error.\n",
    "\n",
    "# Sample JSON data\n",
    "product_data = {\n",
    "    \"name\": \"Laptop\",\n",
    "    \"code\": \"ABC123\",\n",
    "    \"price\": 1000,\n",
    "    \"quantity\": 5,\n",
    "   \n",
    "    \"is_manager\": True,\n",
    "    \"questions\": [\"What is your name?\", \"How old are you?\"]\n",
    "}\n",
    "\n",
    "# Validate the data\n",
    "product = Product(**product_data)\n",
    "print(product)\n"
   ]
  },
  {
   "cell_type": "markdown",
   "id": "3f314a3f",
   "metadata": {},
   "source": [
    "### Pydantic can be a valuable tool for QA automation testers in several ways. \n",
    "Here are five points on why and how they can use Pydantic for testing:\n",
    "\n",
    "1. **Data Validation**:\n",
    "   - **Why**: Ensuring that test data adheres to expected formats and constraints is crucial for reliable testing.\n",
    "   - **How**: Pydantic’s data models validate input data against defined schemas. Testers can use Pydantic to validate the structure and constraints of data inputs and outputs in their test cases.\n",
    "\n",
    "2. **Schema Definition**:\n",
    "   - **Why**: Clear and consistent schemas help maintain and understand test data requirements.\n",
    "   - **How**: Testers can define schemas using Pydantic models to represent the expected data structure. This makes it easier to ensure that the application’s data handling conforms to these schemas.\n",
    "\n",
    "3. **Error Handling**:\n",
    "   - **Why**: Identifying and diagnosing errors related to incorrect data can be time-consuming.\n",
    "   - **How**: Pydantic provides detailed error messages when data validation fails. Testers can leverage these messages to quickly identify and address issues in test data or application responses.\n",
    "\n",
    "4. **Data Generation**:\n",
    "   - **Why**: Automated tests often require diverse and complex test data.\n",
    "   - **How**: Pydantic models can be used in conjunction with libraries like `faker` to generate valid test data that adheres to predefined schemas. This helps in creating a variety of realistic test scenarios.\n",
    "\n",
    "5. **Integration with Test Frameworks**:\n",
    "   - **Why**: Seamless integration with existing test frameworks improves efficiency and consistency.\n",
    "   - **How**: Pydantic can be easily integrated with test frameworks like `pytest` to assert that application outputs conform to expected data models. Testers can use Pydantic to create assertions in their test cases that check data validity and correctness.\n",
    "\n",
    "By incorporating Pydantic into their testing workflows, QA automation testers can improve the reliability and clarity of their tests, making it easier to identify and address data-related issues."
   ]
  },
  {
   "cell_type": "markdown",
   "id": "f8dd6577",
   "metadata": {},
   "source": [
    "### Thanks All for your time !"
   ]
  },
  {
   "cell_type": "markdown",
   "id": "cedb7555",
   "metadata": {},
   "source": [
    "### Like, Share and Subscribe"
   ]
  },
  {
   "cell_type": "markdown",
   "id": "fcae76f3",
   "metadata": {},
   "source": [
    "https://pypi.org/project/pydantic/\n",
    "\n",
    "\n",
    "https://docs.pydantic.dev/latest/#pydantic-examples\n"
   ]
  },
  {
   "cell_type": "markdown",
   "id": "decb37ed",
   "metadata": {},
   "source": []
  }
 ],
 "metadata": {
  "kernelspec": {
   "display_name": "Python 3 (ipykernel)",
   "language": "python",
   "name": "python3"
  },
  "language_info": {
   "codemirror_mode": {
    "name": "ipython",
    "version": 3
   },
   "file_extension": ".py",
   "mimetype": "text/x-python",
   "name": "python",
   "nbconvert_exporter": "python",
   "pygments_lexer": "ipython3",
   "version": "3.11.4"
  }
 },
 "nbformat": 4,
 "nbformat_minor": 5
}
